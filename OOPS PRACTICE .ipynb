{
 "cells": [
  {
   "cell_type": "code",
   "execution_count": 51,
   "id": "86c0c657",
   "metadata": {},
   "outputs": [
    {
     "data": {
      "text/plain": [
       "'the name of the emp is kartik'"
      ]
     },
     "execution_count": 51,
     "metadata": {},
     "output_type": "execute_result"
    }
   ],
   "source": [
    "class employee:\n",
    "    def __init__(self,name,emp_id):\n",
    "        self.name=name\n",
    "        self.emp_id=emp_id\n",
    "    def diplay_details(self):\n",
    "        return f\"the name of the emp is {self.name}\"\n",
    "kartikey=employee(\"kartik\",2)\n",
    "kartikey.diplay_details()"
   ]
  },
  {
   "cell_type": "code",
   "execution_count": 52,
   "id": "2a5ea055",
   "metadata": {},
   "outputs": [
    {
     "name": "stdout",
     "output_type": "stream",
     "text": [
      "{'__module__': '__main__', 'raise_per': 1.1, '__init__': <function mad_angles.__init__ at 0x0000016363351160>, 'apply_raise': <function mad_angles.apply_raise at 0x00000163633511F0>, '__dict__': <attribute '__dict__' of 'mad_angles' objects>, '__weakref__': <attribute '__weakref__' of 'mad_angles' objects>, '__doc__': None}\n"
     ]
    }
   ],
   "source": [
    "#instance variable and class variable are different when we use self. it defines instance variable and when we use classname. to define a variable it is class variable  .if we dont have a instance value for that particular variable than it will access the class variable \n",
    "class mad_angles:\n",
    "    raise_per=1.10\n",
    "    \n",
    "    def __init__(self,flavour,price):\n",
    "        self.flavour=flavour\n",
    "        self.price=price\n",
    "        \n",
    "        \n",
    "    def apply_raise(self):\n",
    "        modified_price= self.raise_per*self.price  # here if we mad_angles.raise_per then always the class variable will be used for the calculation even if we define the same instance variable\n",
    "        \n",
    "        return modified_price\n",
    "    \n",
    "chips1=mad_angles(\"achari\",10)\n",
    "chips1.apply_raise()\n",
    "\n",
    "print(mad_angles.__dict__)"
   ]
  },
  {
   "cell_type": "code",
   "execution_count": 53,
   "id": "fe2a2e33",
   "metadata": {},
   "outputs": [
    {
     "name": "stdout",
     "output_type": "stream",
     "text": [
      "1.1\n",
      "1.1\n",
      "1.5\n"
     ]
    }
   ],
   "source": [
    "# now suppose we create an object chips 2 and define the raise amount separetly for that instance then the method apply raise will take self.raise_per from that instance \n",
    "chips2=mad_angles(\"chilli\",15)\n",
    "chips2.raise_per=1.50\n",
    "\n",
    "\n",
    "print(chips1.raise_per)\n",
    "print(mad_angles.raise_per)\n",
    "print(chips2.raise_per)"
   ]
  },
  {
   "cell_type": "code",
   "execution_count": 54,
   "id": "0a6b21d8",
   "metadata": {},
   "outputs": [
    {
     "name": "stdout",
     "output_type": "stream",
     "text": [
      "the emp name is kartik and pay is 12\n"
     ]
    }
   ],
   "source": [
    "class employee:\n",
    "    \n",
    "    \n",
    "    def __init__(self,name,emp_id,pay):\n",
    "        self.name=name\n",
    "        self.emp_id=emp_id\n",
    "        self.pay=pay\n",
    "        \n",
    "    def info(self):\n",
    "        print(\"the emp name is {} and pay is {}\".format(self.name,self.emp_id))\n",
    "    \n",
    "    \n",
    "    @classmethod\n",
    "    def from_string(cls,string1):\n",
    "        name,emp_id,pay=string1.split('-')\n",
    "        \n",
    "        return cls(name,emp_id,pay)\n",
    "\n",
    "me=employee.from_string(\"kartik-12-7000\")\n",
    "me.info()"
   ]
  },
  {
   "cell_type": "code",
   "execution_count": 55,
   "id": "80e748a7",
   "metadata": {},
   "outputs": [
    {
     "name": "stdout",
     "output_type": "stream",
     "text": [
      "1.45\n",
      "1.6\n",
      "1.5\n",
      "1.45\n"
     ]
    }
   ],
   "source": [
    "class mad_angles:\n",
    "    raise_per=1.10\n",
    "    \n",
    "    def __init__(self,flavour,price):\n",
    "        self.flavour=flavour\n",
    "        self.price=price\n",
    "        \n",
    "        \n",
    "    def apply_raise(self):\n",
    "        modified_price= self.raise_per*self.price  # here if we mad_angles.raise_per then always the class variable will be used for the calculation even if we define the same instance variable\n",
    "        \n",
    "        return modified_price\n",
    "    @classmethod\n",
    "    def modify_raise_per(cls,new_raise):\n",
    "        cls.raise_per=new_raise\n",
    "\n",
    "mad_angles.modify_raise_per(1.45)\n",
    "\n",
    "print(mad_angles.raise_per)\n",
    "\n",
    "chips2.raise_per=1.50\n",
    "\n",
    "\n",
    "chips1.raise_per=1.6\n",
    "\n",
    "\n",
    "print(chips1.raise_per)\n",
    "print(chips2.raise_per)\n",
    "\n",
    "\n",
    "chips3=mad_angles(\"pudina\",30)\n",
    "\n",
    "print(chips3.raise_per)"
   ]
  },
  {
   "cell_type": "code",
   "execution_count": 56,
   "id": "45e34009",
   "metadata": {},
   "outputs": [
    {
     "name": "stdout",
     "output_type": "stream",
     "text": [
      "1\n",
      "2\n"
     ]
    }
   ],
   "source": [
    "class Book:\n",
    "    book_count=0\n",
    "    \n",
    "    def __init__(self,author,page):\n",
    "        self.author=author\n",
    "        self.page=page\n",
    "        Book.book_counter(Book.book_count)\n",
    "    \n",
    "    def info(self):\n",
    "        print(\"the author {self.author} and it has {self.page} pages\")\n",
    "    \n",
    "    @classmethod\n",
    "    def book_counter(cls,book_count):\n",
    "        cls.book_count+=1\n",
    "\n",
    "book1=Book(\"kartik\",677)\n",
    "\n",
    "print(book1.book_count)\n",
    "\n",
    "\n",
    "book1=Book(\"kp\",677)\n",
    "\n",
    "print(book1.book_count)"
   ]
  },
  {
   "cell_type": "raw",
   "id": "8dfea402",
   "metadata": {},
   "source": [
    "class employee:\n",
    "    \n",
    "    \n",
    "    def __init__(self,name,emp_id,pay):\n",
    "        self.name=name\n",
    "        self.emp_id=emp_id\n",
    "        self.pay=pay\n",
    "        \n",
    "    def info(self):\n",
    "        print(\"the emp name is {} and pay is {}\".format(self.name,self.emp_id))\n",
    "    \n",
    "    \n",
    "    @classmethod\n",
    "    def from_string(cls,string1):\n",
    "        name,emp_id,pay=string1.split('-')\n",
    "        \n",
    "        return cls(name,emp_id,pay)\n",
    "        \n",
    "class Developer(employee):\n",
    "    pass\n",
    "\n",
    "emp1=Developer(\"ap\",98,9000)\n",
    "print(emp1.info())\n",
    "\n"
   ]
  },
  {
   "cell_type": "code",
   "execution_count": 88,
   "id": "7784fc82",
   "metadata": {},
   "outputs": [
    {
     "name": "stdout",
     "output_type": "stream",
     "text": [
      "the emp name is ap and pay is 98 and is proficient in py\n",
      "None\n",
      "[<__main__.Developer object at 0x0000016363218250>]\n",
      "[]\n"
     ]
    }
   ],
   "source": [
    "class employee:\n",
    "    \n",
    "    \n",
    "    def __init__(self,name,emp_id,pay):\n",
    "        self.name=name\n",
    "        self.emp_id=emp_id\n",
    "        self.pay=pay\n",
    "        \n",
    "    def info(self):\n",
    "        print(\"the emp name is {} and pay is {}\".format(self.name,self.emp_id))\n",
    "        return 1\n",
    "    \n",
    "    @classmethod\n",
    "    def from_string(cls,string1):\n",
    "        name,emp_id,pay=string1.split('-')\n",
    "        \n",
    "        return cls(name,emp_id,pay)\n",
    "        \n",
    "class Developer(employee):\n",
    "\n",
    "    def  __init__(self,name,emp_id,pay,lang):\n",
    "        super().__init__(name,emp_id,pay)\n",
    "        self.lang=lang\n",
    "    def info(self):\n",
    "        print(\"the emp name is {} and pay is {} and is proficient in {}\".format(self.name,self.emp_id,self.lang))\n",
    "\n",
    "class manager(employee):\n",
    "\n",
    "    def  __init__(self,name,emp_id,pay,employees=None):\n",
    "        super().__init__(name,emp_id,pay)\n",
    "        if employees==None:\n",
    "            self.employees=[]\n",
    "        else:\n",
    "            self.employees=employees\n",
    "            \n",
    "            \n",
    "    def add_emp(self,emp):\n",
    "        if emp not in self.employees:\n",
    "            self.employees.append(emp)\n",
    "\n",
    "            \n",
    "    def emp_remove(self,emp):\n",
    "        if emp  in self.employees:        \n",
    "            self.employees.remove(emp)\n",
    "        else:\n",
    "            raise ValueError\n",
    "        \n",
    "\n",
    "\n",
    "emp1=Developer(\"ap\",98,9000,\"py\")\n",
    "print(emp1.info())\n",
    "\n",
    "emp2=Developer(\"pvp\",98,9000,\"pytor\")\n",
    "\n",
    "mng1=manager(\"pvp\",90,10998)\n",
    "\n",
    "mng1.employees\n",
    "mng1.add_emp(emp1)\n",
    "print(mng1.employees)\n",
    "mng1.emp_remove(emp1)\n",
    "mng1.add_emp(emp2)\n",
    "print(mng1.employees)\n",
    "\n"
   ]
  },
  {
   "cell_type": "code",
   "execution_count": 86,
   "id": "2ca99068",
   "metadata": {},
   "outputs": [
    {
     "name": "stdout",
     "output_type": "stream",
     "text": [
      "<__main__.Developer object at 0x0000016363350E80>\n"
     ]
    }
   ],
   "source": [
    "\n",
    "for emp in mng1.employees:\n",
    "    print(emp)\n"
   ]
  },
  {
   "cell_type": "code",
   "execution_count": 89,
   "id": "8a140510",
   "metadata": {},
   "outputs": [
    {
     "name": "stdout",
     "output_type": "stream",
     "text": [
      "False\n"
     ]
    }
   ],
   "source": [
    "print(isinstance(Developer,employee))"
   ]
  },
  {
   "cell_type": "code",
   "execution_count": 93,
   "id": "73944e69",
   "metadata": {},
   "outputs": [
    {
     "name": "stdout",
     "output_type": "stream",
     "text": [
      "True\n"
     ]
    }
   ],
   "source": [
    "print(isinstance(emp1,Developer))"
   ]
  },
  {
   "cell_type": "code",
   "execution_count": 92,
   "id": "b521243c",
   "metadata": {},
   "outputs": [
    {
     "name": "stdout",
     "output_type": "stream",
     "text": [
      "True\n"
     ]
    }
   ],
   "source": [
    "print(issubclass(Developer,employee))"
   ]
  },
  {
   "cell_type": "code",
   "execution_count": null,
   "id": "51586bf1",
   "metadata": {},
   "outputs": [],
   "source": []
  }
 ],
 "metadata": {
  "kernelspec": {
   "display_name": "Python 3 (ipykernel)",
   "language": "python",
   "name": "python3"
  },
  "language_info": {
   "codemirror_mode": {
    "name": "ipython",
    "version": 3
   },
   "file_extension": ".py",
   "mimetype": "text/x-python",
   "name": "python",
   "nbconvert_exporter": "python",
   "pygments_lexer": "ipython3",
   "version": "3.9.7"
  }
 },
 "nbformat": 4,
 "nbformat_minor": 5
}
